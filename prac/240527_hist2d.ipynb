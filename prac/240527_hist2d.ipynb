{
 "cells": [
  {
   "cell_type": "code",
   "execution_count": 2,
   "metadata": {},
   "outputs": [],
   "source": [
    "#!/usr/bin/env python\n",
    "# -*- coding: utf-8 -*-\n",
    "#\n",
    "# @Author: Mingyeong Yang (mmingyeong@kasi.re.kr)\n",
    "# @Date: 2024-05-27\n",
    "# @Filename: hist2d_projection.ipynb\n",
    "\n",
    "import matplotlib.pyplot as plt\n",
    "import matplotlib as mpl\n",
    "import numpy as np\n",
    "import glob\n",
    "import os\n",
    "import shutil\n",
    "\n",
    "import pandas as pd\n",
    "import h5py\n",
    "import illustris_python as il\n",
    "\n",
    "import shutil"
   ]
  },
  {
   "cell_type": "code",
   "execution_count": 4,
   "metadata": {},
   "outputs": [
    {
     "data": {
      "text/plain": [
       "<Figure size 1500x300 with 0 Axes>"
      ]
     },
     "metadata": {},
     "output_type": "display_data"
    }
   ],
   "source": [
    "OSError_dir = \"/home/users/mmingyeong/tng/tng_99_240425/tng_local/OSError\"\n",
    "num = 234\n",
    "file = f\"/home/users/mmingyeong/tng/tng_99_240425/tng_local/snapshot-99.{num}.hdf5\"\n",
    "try:\n",
    "    f = h5py.File(file, 'r')\n",
    "except OSError:\n",
    "    shutil.move(file, OSError_dir)\n",
    "    print(f\"file {num} has OSError\")\n",
    "    pass\n",
    "        \n",
    "PartType1 = f['PartType1']\n",
    "dm_pos = PartType1[\"Coordinates\"][:]\n",
    "dm_pos = dm_pos*0.001 # kpc -> Mpc 단위 변경\n",
    "dm_pos = dm_pos.astype(np.float64) # 데이터 타입 변경\n",
    "\n",
    "fig = plt.figure(figsize=(15,3))\n",
    "\n",
    "ax1 = fig.add_subplot(131)\n",
    "h1 = ax1.hist2d(dm_pos[:, 0], dm_pos[:, 1], norm=mpl.colors.LogNorm(), bins=50)\n",
    "ax1.set_xlabel('x [cMpc/h]')\n",
    "ax1.set_ylabel('y [cMpc/h]')\n",
    "ax1.set_title(f\"file {num} z-axis.\")\n",
    "cur_ax = plt.gca()\n",
    "fig.colorbar(h1[3],ax=cur_ax)\n",
    "\n",
    "ax2 = fig.add_subplot(132)\n",
    "h2 = ax2.hist2d(dm_pos[:, 1], dm_pos[:, 2], norm=mpl.colors.LogNorm(), bins=50)\n",
    "ax2.set_xlabel('y [cMpc/h]')\n",
    "ax2.set_ylabel('z [cMpc/h]')\n",
    "ax2.set_title(f\"x-axis.\")\n",
    "cur_ax = plt.gca()\n",
    "fig.colorbar(h2[3],ax=cur_ax)\n",
    "\n",
    "ax2 = fig.add_subplot(133)\n",
    "h3 = ax2.hist2d(dm_pos[:, 0], dm_pos[:, 2], norm=mpl.colors.LogNorm(), bins=50)\n",
    "ax2.set_xlabel('x [cMpc/h]')\n",
    "ax2.set_ylabel('z [cMpc/h]')\n",
    "ax2.set_title(f\"y-axis projecting\")\n",
    "cur_ax = plt.gca()\n",
    "fig.colorbar(h3[3],ax=cur_ax)\n",
    "\n",
    "#plt.title(f\"file {num} projecting\")\n",
    "plt.savefig(f\"/home/users/mmingyeong/TNG_visualization/prac/file_{num}_hist2d_projection.png\")\n",
    "\n",
    "plt.clf()  # Clear the current figure\n",
    "#plt.close(fig)  # Close the figure after saving\n",
    "#plt.close('all')\n",
    "f.close()  # Ensure the file is closed after processing"
   ]
  }
 ],
 "metadata": {
  "kernelspec": {
   "display_name": "mingyeong",
   "language": "python",
   "name": "python3"
  },
  "language_info": {
   "codemirror_mode": {
    "name": "ipython",
    "version": 3
   },
   "file_extension": ".py",
   "mimetype": "text/x-python",
   "name": "python",
   "nbconvert_exporter": "python",
   "pygments_lexer": "ipython3",
   "version": "3.7.12"
  }
 },
 "nbformat": 4,
 "nbformat_minor": 2
}
