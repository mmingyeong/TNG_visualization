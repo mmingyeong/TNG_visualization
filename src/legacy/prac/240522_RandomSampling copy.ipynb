{
 "cells": [
  {
   "cell_type": "code",
   "execution_count": null,
   "metadata": {},
   "outputs": [],
   "source": [
    "#!/usr/bin/env python\n",
    "# -*- coding: utf-8 -*-\n",
    "#\n",
    "# @Author: Mingyeong Yang (mmingyeong@kasi.re.kr)\n",
    "# @Date: 2024-05-22\n",
    "# @Filename: 240522_RandomSampling.ipynb\n",
    "\n",
    "import matplotlib.pyplot as plt\n",
    "import matplotlib as mpl\n",
    "import numpy as np\n",
    "import glob\n",
    "import os\n",
    "\n",
    "import pandas as pd\n",
    "import h5py\n",
    "import illustris_python as il"
   ]
  }
 ],
 "metadata": {
  "language_info": {
   "name": "python"
  }
 },
 "nbformat": 4,
 "nbformat_minor": 2
}
